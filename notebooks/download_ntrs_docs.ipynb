{
  "nbformat": 4,
  "nbformat_minor": 0,
  "metadata": {
    "colab": {
      "provenance": []
    },
    "kernelspec": {
      "name": "python3",
      "display_name": "Python 3"
    },
    "language_info": {
      "name": "python"
    }
  },
  "cells": [
    {
      "cell_type": "code",
      "source": [
        "from google.colab import drive\n",
        "drive.mount('/drive')"
      ],
      "metadata": {
        "colab": {
          "base_uri": "https://localhost:8080/"
        },
        "id": "ikBSBpJM9nYc",
        "outputId": "a6c48e67-812e-43ea-8a27-3756e40c83ce"
      },
      "execution_count": null,
      "outputs": [
        {
          "output_type": "stream",
          "name": "stdout",
          "text": [
            "Drive already mounted at /drive; to attempt to forcibly remount, call drive.mount(\"/drive\", force_remount=True).\n"
          ]
        }
      ]
    },
    {
      "cell_type": "code",
      "execution_count": null,
      "metadata": {
        "id": "pwsmbAWmEITg"
      },
      "outputs": [],
      "source": [
        "import os\n",
        "import json\n",
        "import requests\n",
        "from pathlib import Path\n",
        "from pprint import pprint"
      ]
    },
    {
      "cell_type": "code",
      "source": [
        "dst_folder = '/drive/MyDrive/NASA Space Apps Challenge/corpus'"
      ],
      "metadata": {
        "id": "y6aXaTLX93Wb"
      },
      "execution_count": null,
      "outputs": []
    },
    {
      "cell_type": "code",
      "source": [
        "subject_categories = ['Nuclear Physics',\n",
        "                    'Optics',\n",
        "                    'Electronics and Electrical Engineering',\n",
        "                    'Structural Mechanics',\n",
        "                    'Geophysics',\n",
        "                    'Energy Production and Conversion']"
      ],
      "metadata": {
        "id": "pjOG4Pp4jdfn"
      },
      "execution_count": null,
      "outputs": []
    },
    {
      "cell_type": "code",
      "source": [
        "for cat in subject_categories:\n",
        "    cat = cat.replace(' ', '%20')\n",
        "    # print(cat)\n",
        "    api_url = f\"https://ntrs.nasa.gov/api/citations/search?center=CDMS&subjectCategory={cat}\"\n",
        "    # print(api_url)\n",
        "    response = requests.get(api_url)\n",
        "    content = response.json()\n",
        "    results = content['results']\n",
        "    print(\"Results: \", len(results))\n",
        "\n",
        "    for result in results:\n",
        "        if result['downloads']:\n",
        "            file_id = result['id']\n",
        "            file_sbj_cats = result['subjectCategories']\n",
        "            item_link = result['downloads'][0]['links']['pdf']\n",
        "\n",
        "            # For now, we only consider documents that belong to only one subject category\n",
        "            if len(file_sbj_cats) == 1:\n",
        "                pdf_link = 'https://ntrs.nasa.gov' + item_link\n",
        "                filename = Path(os.path.join(dst_folder, f'{file_id}.pdf'))\n",
        "\n",
        "                title = result['title']\n",
        "                abstract = result['abstract']\n",
        "                if abstract:\n",
        "                    print(file_sbj_cats[0])\n",
        "                    print(filename)\n",
        "\n",
        "                    response = requests.get(pdf_link)\n",
        "                    filename.write_bytes(response.content)\n",
        "\n",
        "                    doc_dict = {'id': file_id,\n",
        "                                'subjectCategory': file_sbj_cats[0],\n",
        "                                'title':title,\n",
        "                                'abstract': abstract,\n",
        "                                }\n",
        "                    with open(os.path.join(dst_folder, str(file_id)+'.json'), \"w\") as write_file:\n",
        "                        json.dump(doc_dict, write_file, indent=4)\n",
        "    # break"
      ],
      "metadata": {
        "colab": {
          "base_uri": "https://localhost:8080/"
        },
        "id": "vCvGfO2-EOfq",
        "outputId": "57506e31-ff5c-41c1-93b9-761503999322"
      },
      "execution_count": null,
      "outputs": [
        {
          "output_type": "stream",
          "name": "stdout",
          "text": [
            "Results:  25\n",
            "Nuclear Physics\n",
            "/drive/MyDrive/NASA Space Apps Challenge/corpus/20090023312.pdf\n",
            "Nuclear Physics\n",
            "/drive/MyDrive/NASA Space Apps Challenge/corpus/20090023596.pdf\n",
            "Nuclear Physics\n",
            "/drive/MyDrive/NASA Space Apps Challenge/corpus/19930087094.pdf\n",
            "Results:  25\n",
            "Optics\n",
            "/drive/MyDrive/NASA Space Apps Challenge/corpus/20010054945.pdf\n",
            "Optics\n",
            "/drive/MyDrive/NASA Space Apps Challenge/corpus/19980202494.pdf\n",
            "Optics\n",
            "/drive/MyDrive/NASA Space Apps Challenge/corpus/19990008606.pdf\n",
            "Optics\n",
            "/drive/MyDrive/NASA Space Apps Challenge/corpus/19990013870.pdf\n",
            "Optics\n",
            "/drive/MyDrive/NASA Space Apps Challenge/corpus/19970000423.pdf\n",
            "Optics\n",
            "/drive/MyDrive/NASA Space Apps Challenge/corpus/19970022109.pdf\n",
            "Optics\n",
            "/drive/MyDrive/NASA Space Apps Challenge/corpus/19960014856.pdf\n",
            "Optics\n",
            "/drive/MyDrive/NASA Space Apps Challenge/corpus/20050188450.pdf\n",
            "Optics\n",
            "/drive/MyDrive/NASA Space Apps Challenge/corpus/20080004223.pdf\n",
            "Optics\n",
            "/drive/MyDrive/NASA Space Apps Challenge/corpus/20080004359.pdf\n",
            "Optics\n",
            "/drive/MyDrive/NASA Space Apps Challenge/corpus/20080005959.pdf\n",
            "Optics\n",
            "/drive/MyDrive/NASA Space Apps Challenge/corpus/20010007235.pdf\n",
            "Optics\n",
            "/drive/MyDrive/NASA Space Apps Challenge/corpus/19980028457.pdf\n",
            "Optics\n",
            "/drive/MyDrive/NASA Space Apps Challenge/corpus/20080008254.pdf\n",
            "Optics\n",
            "/drive/MyDrive/NASA Space Apps Challenge/corpus/19960013911.pdf\n",
            "Optics\n",
            "/drive/MyDrive/NASA Space Apps Challenge/corpus/19960014854.pdf\n",
            "Optics\n",
            "/drive/MyDrive/NASA Space Apps Challenge/corpus/19960054114.pdf\n",
            "Optics\n",
            "/drive/MyDrive/NASA Space Apps Challenge/corpus/19960054110.pdf\n",
            "Optics\n",
            "/drive/MyDrive/NASA Space Apps Challenge/corpus/19960054124.pdf\n",
            "Optics\n",
            "/drive/MyDrive/NASA Space Apps Challenge/corpus/19970022873.pdf\n",
            "Results:  25\n",
            "Electronics and Electrical Engineering\n",
            "/drive/MyDrive/NASA Space Apps Challenge/corpus/19970001432.pdf\n",
            "Electronics and Electrical Engineering\n",
            "/drive/MyDrive/NASA Space Apps Challenge/corpus/19970001434.pdf\n",
            "Electronics and Electrical Engineering\n",
            "/drive/MyDrive/NASA Space Apps Challenge/corpus/19970022370.pdf\n",
            "Electronics and Electrical Engineering\n",
            "/drive/MyDrive/NASA Space Apps Challenge/corpus/19970022944.pdf\n",
            "Electronics and Electrical Engineering\n",
            "/drive/MyDrive/NASA Space Apps Challenge/corpus/19970019926.pdf\n",
            "Electronics and Electrical Engineering\n",
            "/drive/MyDrive/NASA Space Apps Challenge/corpus/20000085978.pdf\n",
            "Electronics and Electrical Engineering\n",
            "/drive/MyDrive/NASA Space Apps Challenge/corpus/20000091024.pdf\n",
            "Electronics and Electrical Engineering\n",
            "/drive/MyDrive/NASA Space Apps Challenge/corpus/20000102312.pdf\n",
            "Electronics and Electrical Engineering\n",
            "/drive/MyDrive/NASA Space Apps Challenge/corpus/20010066480.pdf\n",
            "Electronics and Electrical Engineering\n",
            "/drive/MyDrive/NASA Space Apps Challenge/corpus/20020039322.pdf\n",
            "Electronics and Electrical Engineering\n",
            "/drive/MyDrive/NASA Space Apps Challenge/corpus/19980169301.pdf\n",
            "Electronics and Electrical Engineering\n",
            "/drive/MyDrive/NASA Space Apps Challenge/corpus/19980197311.pdf\n",
            "Electronics and Electrical Engineering\n",
            "/drive/MyDrive/NASA Space Apps Challenge/corpus/19990004616.pdf\n",
            "Electronics and Electrical Engineering\n",
            "/drive/MyDrive/NASA Space Apps Challenge/corpus/19990004617.pdf\n",
            "Electronics and Electrical Engineering\n",
            "/drive/MyDrive/NASA Space Apps Challenge/corpus/19990014049.pdf\n",
            "Electronics and Electrical Engineering\n",
            "/drive/MyDrive/NASA Space Apps Challenge/corpus/19990027468.pdf\n",
            "Electronics and Electrical Engineering\n",
            "/drive/MyDrive/NASA Space Apps Challenge/corpus/19990046769.pdf\n",
            "Electronics and Electrical Engineering\n",
            "/drive/MyDrive/NASA Space Apps Challenge/corpus/19980017010.pdf\n",
            "Electronics and Electrical Engineering\n",
            "/drive/MyDrive/NASA Space Apps Challenge/corpus/19960029326.pdf\n",
            "Results:  25\n",
            "Structural Mechanics\n",
            "/drive/MyDrive/NASA Space Apps Challenge/corpus/20160011534.pdf\n",
            "Structural Mechanics\n",
            "/drive/MyDrive/NASA Space Apps Challenge/corpus/19960047100.pdf\n",
            "Structural Mechanics\n",
            "/drive/MyDrive/NASA Space Apps Challenge/corpus/19960051389.pdf\n",
            "Structural Mechanics\n",
            "/drive/MyDrive/NASA Space Apps Challenge/corpus/20050179367.pdf\n",
            "Structural Mechanics\n",
            "/drive/MyDrive/NASA Space Apps Challenge/corpus/19960020433.pdf\n",
            "Structural Mechanics\n",
            "/drive/MyDrive/NASA Space Apps Challenge/corpus/19960041440.pdf\n",
            "Structural Mechanics\n",
            "/drive/MyDrive/NASA Space Apps Challenge/corpus/19990079790.pdf\n",
            "Structural Mechanics\n",
            "/drive/MyDrive/NASA Space Apps Challenge/corpus/20010000360.pdf\n",
            "Structural Mechanics\n",
            "/drive/MyDrive/NASA Space Apps Challenge/corpus/19960047496.pdf\n",
            "Structural Mechanics\n",
            "/drive/MyDrive/NASA Space Apps Challenge/corpus/19960048077.pdf\n",
            "Structural Mechanics\n",
            "/drive/MyDrive/NASA Space Apps Challenge/corpus/19970006991.pdf\n",
            "Structural Mechanics\n",
            "/drive/MyDrive/NASA Space Apps Challenge/corpus/19970001596.pdf\n",
            "Structural Mechanics\n",
            "/drive/MyDrive/NASA Space Apps Challenge/corpus/19970001769.pdf\n",
            "Structural Mechanics\n",
            "/drive/MyDrive/NASA Space Apps Challenge/corpus/19970010117.pdf\n",
            "Structural Mechanics\n",
            "/drive/MyDrive/NASA Space Apps Challenge/corpus/19960017711.pdf\n",
            "Structural Mechanics\n",
            "/drive/MyDrive/NASA Space Apps Challenge/corpus/20080012339.pdf\n",
            "Structural Mechanics\n",
            "/drive/MyDrive/NASA Space Apps Challenge/corpus/19960015867.pdf\n",
            "Structural Mechanics\n",
            "/drive/MyDrive/NASA Space Apps Challenge/corpus/19960020472.pdf\n",
            "Results:  25\n",
            "Geophysics\n",
            "/drive/MyDrive/NASA Space Apps Challenge/corpus/19960042577.pdf\n",
            "Geophysics\n",
            "/drive/MyDrive/NASA Space Apps Challenge/corpus/19970001690.pdf\n",
            "Geophysics\n",
            "/drive/MyDrive/NASA Space Apps Challenge/corpus/19990019502.pdf\n",
            "Geophysics\n",
            "/drive/MyDrive/NASA Space Apps Challenge/corpus/19960022782.pdf\n",
            "Geophysics\n",
            "/drive/MyDrive/NASA Space Apps Challenge/corpus/19970005356.pdf\n",
            "Geophysics\n",
            "/drive/MyDrive/NASA Space Apps Challenge/corpus/19960044695.pdf\n",
            "Geophysics\n",
            "/drive/MyDrive/NASA Space Apps Challenge/corpus/20150018555.pdf\n",
            "Geophysics\n",
            "/drive/MyDrive/NASA Space Apps Challenge/corpus/19860003429.pdf\n",
            "Geophysics\n",
            "/drive/MyDrive/NASA Space Apps Challenge/corpus/19970001849.pdf\n",
            "Results:  25\n",
            "Energy Production and Conversion\n",
            "/drive/MyDrive/NASA Space Apps Challenge/corpus/20080004615.pdf\n",
            "Energy Production and Conversion\n",
            "/drive/MyDrive/NASA Space Apps Challenge/corpus/19790010273.pdf\n",
            "Energy Production and Conversion\n",
            "/drive/MyDrive/NASA Space Apps Challenge/corpus/20030004808.pdf\n",
            "Energy Production and Conversion\n",
            "/drive/MyDrive/NASA Space Apps Challenge/corpus/19970009446.pdf\n",
            "Energy Production and Conversion\n",
            "/drive/MyDrive/NASA Space Apps Challenge/corpus/19970022218.pdf\n",
            "Energy Production and Conversion\n",
            "/drive/MyDrive/NASA Space Apps Challenge/corpus/19990017688.pdf\n",
            "Energy Production and Conversion\n",
            "/drive/MyDrive/NASA Space Apps Challenge/corpus/19980023504.pdf\n",
            "Energy Production and Conversion\n",
            "/drive/MyDrive/NASA Space Apps Challenge/corpus/19980038069.pdf\n",
            "Energy Production and Conversion\n",
            "/drive/MyDrive/NASA Space Apps Challenge/corpus/20000025503.pdf\n",
            "Energy Production and Conversion\n",
            "/drive/MyDrive/NASA Space Apps Challenge/corpus/20000112900.pdf\n",
            "Energy Production and Conversion\n",
            "/drive/MyDrive/NASA Space Apps Challenge/corpus/19960016952.pdf\n",
            "Energy Production and Conversion\n",
            "/drive/MyDrive/NASA Space Apps Challenge/corpus/19960034300.pdf\n"
          ]
        }
      ]
    },
    {
      "cell_type": "markdown",
      "source": [
        "# End"
      ],
      "metadata": {
        "id": "zyCRM-RbEQ9f"
      }
    },
    {
      "cell_type": "markdown",
      "source": [
        " *--*\n"
      ],
      "metadata": {
        "id": "8it6fcNiETLU"
      }
    }
  ]
}